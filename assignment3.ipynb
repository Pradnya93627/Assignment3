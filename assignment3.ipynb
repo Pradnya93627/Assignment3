{
 "cells": [
  {
   "cell_type": "code",
   "execution_count": 1,
   "id": "fe09364b",
   "metadata": {},
   "outputs": [
    {
     "data": {
      "text/plain": [
       "18"
      ]
     },
     "execution_count": 1,
     "metadata": {},
     "output_type": "execute_result"
    }
   ],
   "source": [
    "# que1.1 assignment3\n",
    "\n",
    "def myreduce(list):\n",
    "    x=0\n",
    "    for i in list:\n",
    "        x +=i\n",
    "    return x\n",
    "\n",
    "myreduce([1,2,3,5,7])"
   ]
  },
  {
   "cell_type": "code",
   "execution_count": 2,
   "id": "137e6f73",
   "metadata": {},
   "outputs": [
    {
     "name": "stdout",
     "output_type": "stream",
     "text": [
      "2  4  6  8  "
     ]
    }
   ],
   "source": [
    "# que1.2  assignment3\n",
    "\n",
    "\n",
    "def myfilter(num):\n",
    "    for i in num:\n",
    "        if i%2==0:\n",
    "            print(i,' ',end='')\n",
    "\n",
    "myfilter([1,2,3,4,5,6,8])"
   ]
  },
  {
   "cell_type": "code",
   "execution_count": 3,
   "id": "3633595f",
   "metadata": {},
   "outputs": [
    {
     "name": "stdout",
     "output_type": "stream",
     "text": [
      "('x', 'xx', 'xxx', 'xxxx', 'y', 'yy', 'yyy', 'yyyy', 'z', 'zz', 'zzz', 'zzzz')\n"
     ]
    }
   ],
   "source": [
    "#que2 (1) assig3\n",
    "\n",
    "l=['x','y','z']\n",
    "m=[]\n",
    "for i in l:\n",
    "    q=i,(i*2),(i*3),(i*4)\n",
    "    m.append(q)\n",
    "m\n",
    "print(m[0]+m[1]+m[2])"
   ]
  },
  {
   "cell_type": "code",
   "execution_count": 4,
   "id": "69fdabfe",
   "metadata": {},
   "outputs": [
    {
     "name": "stdout",
     "output_type": "stream",
     "text": [
      "['x', 'y', 'z', 'xx', 'yy', 'zz', 'xxx', 'yyy', 'zzz', 'xxxx', 'yyyy', 'zzzz']\n"
     ]
    }
   ],
   "source": [
    "#que2 (2) assig3\n",
    "\n",
    "l=['x','y','z']\n",
    "m=[]\n",
    "n=[]\n",
    "o=[]\n",
    "p=[]\n",
    "for i in l:\n",
    "    m.append(i)\n",
    "    n.append(i*2)\n",
    "    o.append(i*3)\n",
    "    p.append(i*4)\n",
    "print(m+n+o+p)"
   ]
  },
  {
   "cell_type": "code",
   "execution_count": 5,
   "id": "af1a3ae4",
   "metadata": {},
   "outputs": [
    {
     "data": {
      "text/plain": [
       "[((1, 1), (2, 1), (3, 1)), ((1, 2), (2, 2), (3, 2)), ((1, 3), (2, 3), (3, 3))]"
      ]
     },
     "execution_count": 5,
     "metadata": {},
     "output_type": "execute_result"
    }
   ],
   "source": [
    "#que2 (4) assig3\n",
    "\n",
    "m=[1,2,3]\n",
    "l=[]\n",
    "for i in m:\n",
    "    q=(1,i),(2,i),(3,i)\n",
    "    l.append(q)\n",
    "l\n",
    "    "
   ]
  },
  {
   "cell_type": "code",
   "execution_count": null,
   "id": "ef358ce8",
   "metadata": {},
   "outputs": [],
   "source": []
  }
 ],
 "metadata": {
  "kernelspec": {
   "display_name": "Python 3",
   "language": "python",
   "name": "python3"
  },
  "language_info": {
   "codemirror_mode": {
    "name": "ipython",
    "version": 3
   },
   "file_extension": ".py",
   "mimetype": "text/x-python",
   "name": "python",
   "nbconvert_exporter": "python",
   "pygments_lexer": "ipython3",
   "version": "3.8.8"
  }
 },
 "nbformat": 4,
 "nbformat_minor": 5
}
